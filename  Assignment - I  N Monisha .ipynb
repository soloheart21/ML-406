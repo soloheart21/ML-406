{
 "cells": [
  {
   "cell_type": "code",
   "execution_count": 2,
   "id": "26752fb8",
   "metadata": {},
   "outputs": [],
   "source": [
    "import numpy as np\n",
    "from scipy.stats import t"
   ]
  },
  {
   "cell_type": "markdown",
   "id": "2b667244",
   "metadata": {},
   "source": [
    "# Point Interval Estimation "
   ]
  },
  {
   "cell_type": "code",
   "execution_count": 3,
   "id": "8c3486fc",
   "metadata": {},
   "outputs": [
    {
     "name": "stdout",
     "output_type": "stream",
     "text": [
      "Mean: 20.8\n",
      "Confidence Interval (40%): [17.65719891750294, 23.942801082497063]\n"
     ]
    }
   ],
   "source": [
    "def mean_confidence_interval(data, confidence=0.40):\n",
    "    n = len(data)\n",
    "    mean = np.mean(data)\n",
    "    std_err = np.std(data, ddof=1) / np.sqrt(n)\n",
    "    margin_of_error = std_err * t.ppf((1 + confidence) / 2, n - 1)\n",
    "    lower_bound = mean - margin_of_error\n",
    "    upper_bound = mean + margin_of_error\n",
    "    return mean, lower_bound, upper_bound\n",
    "\n",
    "data = [2, 3, 4, 10, 12, 23, 22, 33, 44, 55]\n",
    "confidence_level = 0.40\n",
    "mean, lower_bound, upper_bound = mean_confidence_interval(data, confidence_level)\n",
    "print(f\"Mean: {mean}\")\n",
    "print(f\"Confidence Interval ({int(confidence_level * 100)}%): [{lower_bound}, {upper_bound}]\")\n"
   ]
  },
  {
   "cell_type": "markdown",
   "id": "965d81b2",
   "metadata": {},
   "source": [
    "# Confidence Intervel"
   ]
  },
  {
   "cell_type": "code",
   "execution_count": 4,
   "id": "a8b3ccb2",
   "metadata": {},
   "outputs": [
    {
     "name": "stdout",
     "output_type": "stream",
     "text": [
      "Null hypothesis rejected: There is a significant difference between the means.\n",
      "Confidence Interval (40%): (-18.71253119042912, -10.087468809570861)\n"
     ]
    }
   ],
   "source": [
    "def compare_means_and_confidence_interval(data1, data2, confidence=0.40):\n",
    "   \n",
    "    n1 = len(data1)\n",
    "    n2 = len(data2)\n",
    "    mean1 = np.mean(data1)\n",
    "    mean2 = np.mean(data2)\n",
    "    std1 = np.std(data1, ddof=1)\n",
    "    std2 = np.std(data2, ddof=1)\n",
    "    std_err = np.sqrt((std1**2 / n1) + (std2**2 / n2))\n",
    "    t_critical = t.ppf((1 + confidence) / 2, n1 + n2 - 2)\n",
    "    \n",
    "    t_statistic = (mean1 - mean2) / std_err\n",
    "    reject_null = np.abs(t_statistic) > t_critical\n",
    "    \n",
    "    mean_diff = mean1 - mean2\n",
    "    margin_of_error = t_critical * std_err\n",
    "    lower_bound = mean_diff - margin_of_error\n",
    "    upper_bound = mean_diff + margin_of_error\n",
    "    \n",
    "    return reject_null, (lower_bound, upper_bound)\n",
    "\n",
    "data1 = [55, 44, 51, 61, 70]\n",
    "data2 = [95, 72, 64, 57, 65]\n",
    "confidence_level = 0.40\n",
    "reject_null, confidence_interval = compare_means_and_confidence_interval(data1, data2, confidence_level)\n",
    "\n",
    "if reject_null:\n",
    "    print(\"Null hypothesis rejected: There is a significant difference between the means.\")\n",
    "else:\n",
    "    print(\"Null hypothesis not rejected: There is no significant difference between the means.\")\n",
    "\n",
    "print(f\"Confidence Interval ({int(confidence_level * 100)}%): {confidence_interval}\")\n"
   ]
  },
  {
   "cell_type": "markdown",
   "id": "568361c8",
   "metadata": {},
   "source": [
    "# Hypothesis Test"
   ]
  },
  {
   "cell_type": "code",
   "execution_count": 5,
   "id": "ec984d17",
   "metadata": {},
   "outputs": [
    {
     "name": "stdout",
     "output_type": "stream",
     "text": [
      "Fail to reject the null hypothesis: There is no significant difference between the means.\n",
      "t-statistic: -1.822930860750599\n",
      "p-value: 0.10577632717102925\n"
     ]
    }
   ],
   "source": [
    "def student_t_test(sample1, sample2, a=0.09):\n",
    "    \n",
    "    n1 = len(sample1)\n",
    "    n2 = len(sample2)\n",
    "    mean1 = np.mean(sample1)\n",
    "    mean2 = np.mean(sample2)\n",
    "    std1 = np.std(sample1, ddof=1)\n",
    "    std2 = np.std(sample2, ddof=1)\n",
    "    \n",
    "    pooled_std = np.sqrt((std1**2 / n1) + (std2**2 / n2))\n",
    "    t_statistic = (mean1 - mean2) / pooled_std\n",
    "    degrees_of_freedom = n1 + n2 - 2\n",
    "    p_value = 2 * (1 - t.cdf(abs(t_statistic), df=degrees_of_freedom))\n",
    "\n",
    "    reject_null = p_value < a\n",
    "\n",
    "    return reject_null, t_statistic, p_value\n",
    "\n",
    "\n",
    "sample1 = [55, 44, 51, 61, 70]\n",
    "sample2 = [95, 72, 64, 57, 65]\n",
    "a= 0.09\n",
    "\n",
    "reject_null, t_statistic, p_value = student_t_test(sample1, sample2, a)\n",
    "\n",
    "if reject_null:\n",
    "    print(\"Reject the null hypothesis: There is a significant difference between the means.\")\n",
    "else:\n",
    "    print(\"Fail to reject the null hypothesis: There is no significant difference between the means.\")\n",
    "\n",
    "print(f\"t-statistic: {t_statistic}\")\n",
    "print(f\"p-value: {p_value}\")\n"
   ]
  },
  {
   "cell_type": "markdown",
   "id": "eedac5c2",
   "metadata": {},
   "source": [
    "# One Tailed T-Test"
   ]
  },
  {
   "cell_type": "code",
   "execution_count": 8,
   "id": "db3aa465",
   "metadata": {},
   "outputs": [
    {
     "name": "stdout",
     "output_type": "stream",
     "text": [
      "Reject the null hypothesis: The sample mean is significantly greater than the null mean\n",
      "t-statistic: 1.6947004364718832\n",
      "p-value: 0.062186762953828634\n"
     ]
    }
   ],
   "source": [
    "def one_tailed_t_test(sample, null_mean, alternative='Greater', a=0.09):\n",
    "   \n",
    "    n = len(sample)\n",
    "    sample_mean = np.mean(sample)\n",
    "    sample_std = np.std(sample, ddof=1)\n",
    "    t_statistic = (sample_mean - null_mean) / (sample_std / np.sqrt(n))\n",
    "    \n",
    "    if alternative == 'Greater':\n",
    "        p_value = 1 - t.cdf(t_statistic, df=n - 1)\n",
    "        reject_null = p_value < a\n",
    "    elif alternative == 'Less':\n",
    "        p_value = t.cdf(t_statistic, df=n - 1)\n",
    "        reject_null = p_value < a\n",
    "    else:\n",
    "        raise ValueError(\"Invalid alternative hypothesis. Choose either 'greater' or 'less'.\")\n",
    "\n",
    "    return reject_null, t_statistic, p_value\n",
    "\n",
    "\n",
    "sample = [2, 3, 4, 10, 12, 23, 22, 33, 44, 55]\n",
    "null_mean = 11\n",
    "alternative = 'Greater'\n",
    "a = 0.09\n",
    "\n",
    "reject_null, t_statistic, p_value = one_tailed_t_test(sample, null_mean, alternative, a)\n",
    "\n",
    "if reject_null:\n",
    "    print(\"Reject the null hypothesis: The sample mean is significantly greater than the null mean\")\n",
    "else:\n",
    "    print(\"Fail to reject the null hypothesis: The sample mean is not significantly greater than the null mean\")\n",
    "\n",
    "print(f\"t-statistic: {t_statistic}\")\n",
    "print(f\"p-value: {p_value}\")\n"
   ]
  },
  {
   "cell_type": "markdown",
   "id": "2b30b542",
   "metadata": {},
   "source": [
    "# Two Tailed T-Test"
   ]
  },
  {
   "cell_type": "code",
   "execution_count": 10,
   "id": "8be87cc6",
   "metadata": {},
   "outputs": [
    {
     "name": "stdout",
     "output_type": "stream",
     "text": [
      "Fail to reject the null hypothesis: The sample mean is not significantly different from the null mean.\n",
      "t-statistic: 1.6947004364718832\n",
      "p-value: 0.12437352590765727\n"
     ]
    }
   ],
   "source": [
    "def two_tailed_t_test(sample, null_mean, a=0.09):\n",
    "   \n",
    "    n = len(sample)\n",
    "    sample_mean = np.mean(sample)\n",
    "    sample_std = np.std(sample, ddof=1)\n",
    "    t_statistic = (sample_mean - null_mean) / (sample_std / np.sqrt(n))\n",
    "    degrees_of_freedom = n - 1\n",
    "    \n",
    "    p_value = 2 * (1 - t.cdf(abs(t_statistic), df=degrees_of_freedom))\n",
    "\n",
    "    reject_null = p_value < a\n",
    "\n",
    "    return reject_null, t_statistic, p_value\n",
    "\n",
    "sample = [2, 3, 4, 10, 12, 23, 22, 33, 44, 55]\n",
    "null_mean = 11\n",
    "a = 0.09\n",
    "\n",
    "reject_null, t_statistic, p_value = two_tailed_t_test(sample, null_mean, a)\n",
    "\n",
    "if reject_null:\n",
    "    print(\"Reject the null hypothesis: The sample mean is significantly different from the null mean.\")\n",
    "else:\n",
    "    print(\"Fail to reject the null hypothesis: The sample mean is not significantly different from the null mean.\")\n",
    "\n",
    "print(f\"t-statistic: {t_statistic}\")\n",
    "print(f\"p-value: {p_value}\")"
   ]
  },
  {
   "cell_type": "code",
   "execution_count": null,
   "id": "9b78272e",
   "metadata": {},
   "outputs": [],
   "source": []
  }
 ],
 "metadata": {
  "kernelspec": {
   "display_name": "Python 3 (ipykernel)",
   "language": "python",
   "name": "python3"
  },
  "language_info": {
   "codemirror_mode": {
    "name": "ipython",
    "version": 3
   },
   "file_extension": ".py",
   "mimetype": "text/x-python",
   "name": "python",
   "nbconvert_exporter": "python",
   "pygments_lexer": "ipython3",
   "version": "3.9.12"
  }
 },
 "nbformat": 4,
 "nbformat_minor": 5
}
